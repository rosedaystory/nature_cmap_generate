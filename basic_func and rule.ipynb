{
 "cells": [
  {
   "cell_type": "code",
   "execution_count": 2,
   "metadata": {},
   "outputs": [
    {
     "name": "stderr",
     "output_type": "stream",
     "text": [
      "C:\\ProgramData\\Anaconda3\\lib\\site-packages\\statsmodels\\compat\\pandas.py:56: FutureWarning: The pandas.core.datetools module is deprecated and will be removed in a future version. Please use the pandas.tseries module instead.\n",
      "  from pandas.core import datetools\n",
      "Using TensorFlow backend.\n"
     ]
    }
   ],
   "source": [
    "%run C://Users/a/apython/__init__/Normal_for_DSS.py\n",
    "\n",
    "from IPython.core.display import display\n",
    "from PIL import Image, ImageFilter\n",
    "import math\n",
    "import matplotlib.pyplot as plt\n",
    "import numpy as np\n",
    "\n",
    "from skimage import img_as_float\n",
    "from skimage.feature import blob_dog\n",
    "from skimage.draw import ellipse\n",
    "from skimage.measure import label, regionprops\n",
    "from skimage.transform import rotate\n"
   ]
  },
  {
   "cell_type": "code",
   "execution_count": 126,
   "metadata": {},
   "outputs": [],
   "source": [
    "#load image_file \n",
    "a = Image.open('C:/Users/a/flower1.jpg')\n",
    "b = Image.open('C:/Users/a/flower2.jpg')"
   ]
  },
  {
   "cell_type": "code",
   "execution_count": 140,
   "metadata": {},
   "outputs": [],
   "source": [
    "#image to numpy array and numpy array type float!\n",
    "def to_np(ima):\n",
    "    im = np.array(ima)\n",
    "    return(im)\n",
    "\n",
    "def to_float(ima):\n",
    "    imm = to_np(ima)\n",
    "    im = imm / 255.\n",
    "    return im\n",
    "    "
   ]
  },
  {
   "cell_type": "code",
   "execution_count": null,
   "metadata": {
    "scrolled": true
   },
   "outputs": [],
   "source": [
    "#doubling and quadrapling the lencth of color features\n",
    "def dou(kk):\n",
    "    \"\"\"\n",
    "    double your lenth of 1-d array using intepolated number(using mean)\n",
    "    acturely make length 2n-1\n",
    "    \"\"\"\n",
    "    nn = len(kk)\n",
    "    x = np.arange(0,2*nn,2)\n",
    "    x_n = np.arange(2*nn-1)\n",
    "    k_n = np.interp(x_n, x, kk)\n",
    "    return k_n\n",
    "\n",
    "def double(col_l):\n",
    "    \"\"\"return 2n - 1 length interpolated color column\"\"\"\n",
    "    red = dou(col_l[:,0])\n",
    "    green = dou(col_l[:,1])\n",
    "    blue = dou(col_l[:,2])\n",
    "    return np.dstack((red,green,blue)).reshape(-1,3)\n",
    "\n",
    "def quad(col_l):\n",
    "    \"\"\"return 4n - 3 length interpolated color column\"\"\"\n",
    "    return double(double(col_l))\n",
    "\n",
    "\n",
    "\"\"\"\n",
    "3th 5th 6th도 만들어야 한다!\n",
    "\"\"\""
   ]
  },
  {
   "cell_type": "code",
   "execution_count": 238,
   "metadata": {
    "collapsed": true
   },
   "outputs": [],
   "source": [
    "def rev(kk):\n",
    "    return kk[::-1]\n",
    "def ara(kk):\n",
    "    return np.arange(len(kk))"
   ]
  },
  {
   "cell_type": "code",
   "execution_count": 196,
   "metadata": {},
   "outputs": [],
   "source": [
    "#첫번째 색깔리스트의 끝점과 두번쨰 색깔리스트의 첫점사이의 값을 리니어 하게 이음.\n",
    "\n",
    "def sta_end(start,end,num):\n",
    "    x = [0, num+1]\n",
    "    x_n = np.arange(1,num+1)\n",
    "    fill = np.interp(x_n,x,[start,end])\n",
    "    return fill\n",
    "def filler_lin(first_mat, second_mat, num):\n",
    "    fi_end = len(first_mat)-1\n",
    "    red = sta_end(first_mat[:,0][fi_end],second_mat[:,0][0],num)\n",
    "    green = sta_end(first_mat[:,1][fi_end],second_mat[:,1][0],num)\n",
    "    blue = sta_end(first_mat[:,2][fi_end],second_mat[:,2][0],num)\n",
    "    return np.dstack((red,green,blue)).reshape(-1,3)\n",
    "\n",
    "######\n",
    "## not linear case도 만들어 두는 것이 좋겠다!!"
   ]
  },
  {
   "cell_type": "code",
   "execution_count": 223,
   "metadata": {
    "collapsed": true
   },
   "outputs": [],
   "source": [
    "# see quick view version of color list~\n",
    "\n",
    "def draw_s (color_list):\n",
    "    sss = np.arange(len(color_list))\n",
    "    plt.scatter(sss,sss,color=color_list)\n",
    "    plt.show()"
   ]
  },
  {
   "cell_type": "code",
   "execution_count": 207,
   "metadata": {
    "scrolled": true
   },
   "outputs": [
    {
     "data": {
      "image/png": "[encoded data removed]",
      "text/plain": [
       "<matplotlib.figure.Figure at 0x106fc6a0>"
      ]
     },
     "metadata": {},
     "output_type": "display_data"
    }
   ],
   "source": [
    "z = filler_lin(a_f[:,5][::-1],b_f[:,5],100)\n",
    "aa = np.arange(len(a_f[:,5]))\n",
    "bb = np.arange(len(b_f[:,5]))\n",
    "plt.scatter(zz, zz, color=z)\n",
    "plt.show()"
   ]
  },
  {
   "cell_type": "code",
   "execution_count": 228,
   "metadata": {},
   "outputs": [],
   "source": [
    "aaa = a_f[:,5]\n",
    "bbb = b_f[:,5]\n",
    "bbbb = double(bbb)\n",
    "bbbbb = double(bbbb)"
   ]
  },
  {
   "cell_type": "code",
   "execution_count": 234,
   "metadata": {},
   "outputs": [
    {
     "data": {
      "image/png": "[encoded data removed]",
      "text/plain": [
       "<matplotlib.figure.Figure at 0x105c5358>"
      ]
     },
     "metadata": {},
     "output_type": "display_data"
    },
    {
     "data": {
      "image/png": "[encoded data removed]",
      "text/plain": [
       "<matplotlib.figure.Figure at 0x105c5940>"
      ]
     },
     "metadata": {},
     "output_type": "display_data"
    }
   ],
   "source": [
    "draw_s(aaa)\n",
    "draw_s(bbbbb)\n",
    "len(bbbbb)\n",
    "ab = filler_lin(rev_(bbbbb),aaa,59)"
   ]
  },
  {
   "cell_type": "code",
   "execution_count": 231,
   "metadata": {},
   "outputs": [
    {
     "data": {
      "text/plain": [
       "59"
      ]
     },
     "execution_count": 231,
     "metadata": {},
     "output_type": "execute_result"
    }
   ],
   "source": [
    "256 - 101 - 96"
   ]
  },
  {
   "cell_type": "code",
   "execution_count": 240,
   "metadata": {},
   "outputs": [],
   "source": [
    "flower_= np.vstack((rev_(bbbbb),ab,aaa))"
   ]
  },
  {
   "cell_type": "code",
   "execution_count": 241,
   "metadata": {},
   "outputs": [
    {
     "data": {
      "text/plain": [
       "256"
      ]
     },
     "execution_count": 241,
     "metadata": {},
     "output_type": "execute_result"
    }
   ],
   "source": [
    "len(flower_)"
   ]
  },
  {
   "cell_type": "code",
   "execution_count": 242,
   "metadata": {},
   "outputs": [
    {
     "data": {
      "image/png": "[encoded data removed]",
      "text/plain": [
       "<matplotlib.figure.Figure at 0x11fc55f8>"
      ]
     },
     "metadata": {},
     "output_type": "display_data"
    }
   ],
   "source": [
    "draw_s(flower_)"
   ]
  },
  {
   "cell_type": "code",
   "execution_count": null,
   "metadata": {},
   "outputs": [],
   "source": []
  },
  {
   "cell_type": "code",
   "execution_count": null,
   "metadata": {
    "scrolled": true
   },
   "outputs": [],
   "source": []
  },
  {
   "cell_type": "code",
   "execution_count": null,
   "metadata": {
    "collapsed": true
   },
   "outputs": [],
   "source": []
  },
  {
   "cell_type": "code",
   "execution_count": null,
   "metadata": {
    "scrolled": true
   },
   "outputs": [],
   "source": []
  },
  {
   "cell_type": "code",
   "execution_count": null,
   "metadata": {},
   "outputs": [],
   "source": []
  },
  {
   "cell_type": "code",
   "execution_count": null,
   "metadata": {
    "scrolled": true
   },
   "outputs": [],
   "source": []
  },
  {
   "cell_type": "code",
   "execution_count": 120,
   "metadata": {
    "collapsed": true
   },
   "outputs": [],
   "source": [
    "\n"
   ]
  },
  {
   "cell_type": "code",
   "execution_count": null,
   "metadata": {},
   "outputs": [],
   "source": []
  },
  {
   "cell_type": "code",
   "execution_count": null,
   "metadata": {},
   "outputs": [],
   "source": []
  },
  {
   "cell_type": "code",
   "execution_count": null,
   "metadata": {},
   "outputs": [],
   "source": []
  },
  {
   "cell_type": "code",
   "execution_count": null,
   "metadata": {},
   "outputs": [],
   "source": []
  },
  {
   "cell_type": "code",
   "execution_count": null,
   "metadata": {},
   "outputs": [],
   "source": []
  },
  {
   "cell_type": "code",
   "execution_count": null,
   "metadata": {},
   "outputs": [],
   "source": []
  },
  {
   "cell_type": "code",
   "execution_count": 115,
   "metadata": {},
   "outputs": [],
   "source": []
  },
  {
   "cell_type": "code",
   "execution_count": null,
   "metadata": {},
   "outputs": [],
   "source": []
  },
  {
   "cell_type": "code",
   "execution_count": null,
   "metadata": {},
   "outputs": [],
   "source": []
  },
  {
   "cell_type": "code",
   "execution_count": null,
   "metadata": {},
   "outputs": [],
   "source": []
  },
  {
   "cell_type": "code",
   "execution_count": null,
   "metadata": {},
   "outputs": [],
   "source": []
  },
  {
   "cell_type": "code",
   "execution_count": null,
   "metadata": {},
   "outputs": [],
   "source": []
  },
  {
   "cell_type": "code",
   "execution_count": null,
   "metadata": {
    "collapsed": true
   },
   "outputs": [],
   "source": []
  },
  {
   "cell_type": "code",
   "execution_count": null,
   "metadata": {},
   "outputs": [],
   "source": []
  },
  {
   "cell_type": "code",
   "execution_count": null,
   "metadata": {},
   "outputs": [],
   "source": []
  },
  {
   "cell_type": "code",
   "execution_count": null,
   "metadata": {
    "collapsed": true
   },
   "outputs": [],
   "source": []
  }
 ],
 "metadata": {
  "kernelspec": {
   "display_name": "Python 3",
   "language": "python",
   "name": "python3"
  },
  "language_info": {
   "codemirror_mode": {
    "name": "ipython",
    "version": 3
   },
   "file_extension": ".py",
   "mimetype": "text/x-python",
   "name": "python",
   "nbconvert_exporter": "python",
   "pygments_lexer": "ipython3",
   "version": "3.6.1"
  }
 },
 "nbformat": 4,
 "nbformat_minor": 2
}
