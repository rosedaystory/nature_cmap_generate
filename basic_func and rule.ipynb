{
 "cells": [
  {
   "cell_type": "code",
   "execution_count": 120,
   "metadata": {},
   "outputs": [],
   "source": [
    "%run C://Users/a/apython/__init__/Normal_for_DSS.py\n",
    "\n",
    "from IPython.core.display import display\n",
    "from PIL import Image, ImageFilter\n",
    "import math\n",
    "import matplotlib.pyplot as plt\n",
    "import numpy as np\n",
    "\n",
    "from skimage import img_as_float\n",
    "from skimage.feature import blob_dog\n",
    "from skimage.draw import ellipse\n",
    "from skimage.measure import label, regionprops\n",
    "from skimage.transform import rotate\n"
   ]
  },
  {
   "cell_type": "code",
   "execution_count": 91,
   "metadata": {},
   "outputs": [
    {
     "data": {
      "text/plain": [
       "array([[ 0.5 ,  0.  ,  0.  ],\n",
       "       [ 0.  ,  0.5 ,  0.  ],\n",
       "       [ 0.  ,  0.  ,  0.5 ],\n",
       "       [ 0.5 ,  0.5 ,  0.  ],\n",
       "       [ 0.  ,  0.5 ,  0.5 ],\n",
       "       [ 0.35,  0.  ,  0.35],\n",
       "       [ 0.3 ,  0.3 ,  0.3 ]])"
      ]
     },
     "execution_count": 91,
     "metadata": {},
     "output_type": "execute_result"
    }
   ],
   "source": [
    "ac = np.array([(1,0,0),(0,1,0),(0,0,1),(1,1,0.0),(0,1,1),(0.7,0,0.7),(0.6,0.6,0.6)])\n",
    "ac1 = ac / 2.\n",
    "ac1"
   ]
  },
  {
   "cell_type": "code",
   "execution_count": 92,
   "metadata": {},
   "outputs": [
    {
     "data": {
      "image/png": "[encoded data removed]",
      "text/plain": [
       "<matplotlib.figure.Figure at 0x10643828>"
      ]
     },
     "metadata": {},
     "output_type": "display_data"
    }
   ],
   "source": [
    "plt.figure(figsize = (4,4), num=1 )\n",
    "plt.bar([1,2,3,4,5,6,7],[4,2,4,1,1,3,2],color=ac, )\n",
    "plt.show()"
   ]
  },
  {
   "cell_type": "code",
   "execution_count": 93,
   "metadata": {
    "scrolled": true
   },
   "outputs": [
    {
     "data": {
      "image/png": "[encoded data removed]",
      "text/plain": [
       "<matplotlib.figure.Figure at 0x10966f28>"
      ]
     },
     "metadata": {},
     "output_type": "display_data"
    }
   ],
   "source": [
    "plt.figure(figsize = (4,4), num=1 )\n",
    "plt.bar([1,2,3,4,5,6,7],[4,2,4,1,1,3,2],color=ac1, )\n",
    "plt.show()"
   ]
  },
  {
   "cell_type": "code",
   "execution_count": 94,
   "metadata": {},
   "outputs": [],
   "source": [
    "_inferno_data = [[0.001462, 0.000466, 0.013866],\n",
    "                 [0.002267, 0.001270, 0.018570],\n",
    "                 [0.003299, 0.002249, 0.024239],\n",
    "                 [0.004547, 0.003392, 0.030909],\n",
    "                 [0.006006, 0.004692, 0.038558],\n",
    "                 [0.007676, 0.006136, 0.046836],\n",
    "                 [0.009561, 0.007713, 0.055143],\n",
    "                 [0.011663, 0.009417, 0.063460],\n",
    "                 [0.013995, 0.011225, 0.071862],\n",
    "                 [0.016561, 0.013136, 0.080282],\n",
    "                 [0.019373, 0.015133, 0.088767],\n",
    "                 [0.022447, 0.017199, 0.097327],\n",
    "                 [0.025793, 0.019331, 0.105930],\n",
    "                 [0.029432, 0.021503, 0.114621],\n",
    "                 [0.033385, 0.023702, 0.123397],\n",
    "                 [0.037668, 0.025921, 0.132232],\n",
    "                 [0.042253, 0.028139, 0.141141],\n",
    "                 [0.046915, 0.030324, 0.150164],\n",
    "                 [0.051644, 0.032474, 0.159254],\n",
    "                 [0.056449, 0.034569, 0.168414],\n",
    "                 [0.061340, 0.036590, 0.177642],\n",
    "                 [0.066331, 0.038504, 0.186962],\n",
    "                 [0.071429, 0.040294, 0.196354],\n",
    "                 [0.076637, 0.041905, 0.205799],\n",
    "                 [0.081962, 0.043328, 0.215289],\n",
    "                 [0.087411, 0.044556, 0.224813],\n",
    "                 [0.092990, 0.045583, 0.234358],\n",
    "                 [0.098702, 0.046402, 0.243904],\n",
    "                 [0.104551, 0.047008, 0.253430],\n",
    "                 [0.110536, 0.047399, 0.262912],\n",
    "                 [0.116656, 0.047574, 0.272321],\n",
    "                 [0.122908, 0.047536, 0.281624],\n",
    "                 [0.129285, 0.047293, 0.290788],\n",
    "                 [0.135778, 0.046856, 0.299776],\n",
    "                 [0.142378, 0.046242, 0.308553],\n",
    "                 [0.149073, 0.045468, 0.317085],\n",
    "                 [0.155850, 0.044559, 0.325338],\n",
    "                 [0.162689, 0.043554, 0.333277],\n",
    "                 [0.169575, 0.042489, 0.340874],\n",
    "                 [0.176493, 0.041402, 0.348111],\n",
    "                 [0.183429, 0.040329, 0.354971],\n",
    "                 [0.190367, 0.039309, 0.361447],\n",
    "                 [0.197297, 0.038400, 0.367535],\n",
    "                 [0.204209, 0.037632, 0.373238],\n",
    "                 [0.211095, 0.037030, 0.378563],\n",
    "                 [0.217949, 0.036615, 0.383522],\n",
    "                 [0.224763, 0.036405, 0.388129],\n",
    "                 [0.231538, 0.036405, 0.392400],\n",
    "                 [0.238273, 0.036621, 0.396353],\n",
    "                 [0.244967, 0.037055, 0.400007],\n",
    "                 [0.251620, 0.037705, 0.403378],\n",
    "                 [0.258234, 0.038571, 0.406485],\n",
    "                 [0.264810, 0.039647, 0.409345],\n",
    "                 [0.271347, 0.040922, 0.411976],\n",
    "                 [0.277850, 0.042353, 0.414392],\n",
    "                 [0.284321, 0.043933, 0.416608],\n",
    "                 [0.290763, 0.045644, 0.418637],\n",
    "                 [0.297178, 0.047470, 0.420491],\n",
    "                 [0.303568, 0.049396, 0.422182],\n",
    "                 [0.309935, 0.051407, 0.423721],\n",
    "                 [0.316282, 0.053490, 0.425116],\n",
    "                 [0.322610, 0.055634, 0.426377],\n",
    "                 [0.328921, 0.057827, 0.427511],\n",
    "                 [0.335217, 0.060060, 0.428524],\n",
    "                 [0.341500, 0.062325, 0.429425],\n",
    "                 [0.347771, 0.064616, 0.430217],\n",
    "                 [0.354032, 0.066925, 0.430906],\n",
    "                 [0.360284, 0.069247, 0.431497],\n",
    "                 [0.366529, 0.071579, 0.431994],\n",
    "                 [0.372768, 0.073915, 0.432400],\n",
    "                 [0.379001, 0.076253, 0.432719],\n",
    "                 [0.385228, 0.078591, 0.432955],\n",
    "                 [0.391453, 0.080927, 0.433109],\n",
    "                 [0.397674, 0.083257, 0.433183],\n",
    "                 [0.403894, 0.085580, 0.433179],\n",
    "                 [0.410113, 0.087896, 0.433098],\n",
    "                 [0.416331, 0.090203, 0.432943],\n",
    "                 [0.422549, 0.092501, 0.432714],\n",
    "                 [0.428768, 0.094790, 0.432412],\n",
    "                 [0.434987, 0.097069, 0.432039],\n",
    "                 [0.441207, 0.099338, 0.431594],\n",
    "                 [0.447428, 0.101597, 0.431080],\n",
    "                 [0.453651, 0.103848, 0.430498],\n",
    "                 [0.459875, 0.106089, 0.429846],\n",
    "                 [0.466100, 0.108322, 0.429125],\n",
    "                 [0.472328, 0.110547, 0.428334],\n",
    "                 [0.478558, 0.112764, 0.427475],\n",
    "                 [0.484789, 0.114974, 0.426548],\n",
    "                 [0.491022, 0.117179, 0.425552],\n",
    "                 [0.497257, 0.119379, 0.424488],\n",
    "                 [0.503493, 0.121575, 0.423356],\n",
    "                 [0.509730, 0.123769, 0.422156],\n",
    "                 [0.515967, 0.125960, 0.420887],\n",
    "                 [0.522206, 0.128150, 0.419549],\n",
    "                 [0.528444, 0.130341, 0.418142],\n",
    "                 [0.534683, 0.132534, 0.416667],\n",
    "                 [0.540920, 0.134729, 0.415123],\n",
    "                 [0.547157, 0.136929, 0.413511],\n",
    "                 [0.553392, 0.139134, 0.411829],\n",
    "                 [0.559624, 0.141346, 0.410078],\n",
    "                 [0.565854, 0.143567, 0.408258],\n",
    "                 [0.572081, 0.145797, 0.406369],\n",
    "                 [0.578304, 0.148039, 0.404411],\n",
    "                 [0.584521, 0.150294, 0.402385],\n",
    "                 [0.590734, 0.152563, 0.400290],\n",
    "                 [0.596940, 0.154848, 0.398125],\n",
    "                 [0.603139, 0.157151, 0.395891],\n",
    "                 [0.609330, 0.159474, 0.393589],\n",
    "                 [0.615513, 0.161817, 0.391219],\n",
    "                 [0.621685, 0.164184, 0.388781],\n",
    "                 [0.627847, 0.166575, 0.386276],\n",
    "                 [0.633998, 0.168992, 0.383704],\n",
    "                 [0.640135, 0.171438, 0.381065],\n",
    "                 [0.646260, 0.173914, 0.378359],\n",
    "                 [0.652369, 0.176421, 0.375586],\n",
    "                 [0.658463, 0.178962, 0.372748],\n",
    "                 [0.664540, 0.181539, 0.369846],\n",
    "                 [0.670599, 0.184153, 0.366879],\n",
    "                 [0.676638, 0.186807, 0.363849],\n",
    "                 [0.682656, 0.189501, 0.360757],\n",
    "                 [0.688653, 0.192239, 0.357603],\n",
    "                 [0.694627, 0.195021, 0.354388],\n",
    "                 [0.700576, 0.197851, 0.351113],\n",
    "                 [0.706500, 0.200728, 0.347777],\n",
    "                 [0.712396, 0.203656, 0.344383],\n",
    "                 [0.718264, 0.206636, 0.340931],\n",
    "                 [0.724103, 0.209670, 0.337424],\n",
    "                 [0.729909, 0.212759, 0.333861],\n",
    "                 [0.735683, 0.215906, 0.330245],\n",
    "                 [0.741423, 0.219112, 0.326576],\n",
    "                 [0.747127, 0.222378, 0.322856],\n",
    "                 [0.752794, 0.225706, 0.319085],\n",
    "                 [0.758422, 0.229097, 0.315266],\n",
    "                 [0.764010, 0.232554, 0.311399],\n",
    "                 [0.769556, 0.236077, 0.307485],\n",
    "                 [0.775059, 0.239667, 0.303526],\n",
    "                 [0.780517, 0.243327, 0.299523],\n",
    "                 [0.785929, 0.247056, 0.295477],\n",
    "                 [0.791293, 0.250856, 0.291390],\n",
    "                 [0.796607, 0.254728, 0.287264],\n",
    "                 [0.801871, 0.258674, 0.283099],\n",
    "                 [0.807082, 0.262692, 0.278898],\n",
    "                 [0.812239, 0.266786, 0.274661],\n",
    "                 [0.817341, 0.270954, 0.270390],\n",
    "                 [0.822386, 0.275197, 0.266085],\n",
    "                 [0.827372, 0.279517, 0.261750],\n",
    "                 [0.832299, 0.283913, 0.257383],\n",
    "                 [0.837165, 0.288385, 0.252988],\n",
    "                 [0.841969, 0.292933, 0.248564],\n",
    "                 [0.846709, 0.297559, 0.244113],\n",
    "                 [0.851384, 0.302260, 0.239636],\n",
    "                 [0.855992, 0.307038, 0.235133],\n",
    "                 [0.860533, 0.311892, 0.230606],\n",
    "                 [0.865006, 0.316822, 0.226055],\n",
    "                 [0.869409, 0.321827, 0.221482],\n",
    "                 [0.873741, 0.326906, 0.216886],\n",
    "                 [0.878001, 0.332060, 0.212268],\n",
    "                 [0.882188, 0.337287, 0.207628],\n",
    "                 [0.886302, 0.342586, 0.202968],\n",
    "                 [0.890341, 0.347957, 0.198286],\n",
    "                 [0.894305, 0.353399, 0.193584],\n",
    "                 [0.898192, 0.358911, 0.188860],\n",
    "                 [0.902003, 0.364492, 0.184116],\n",
    "                 [0.905735, 0.370140, 0.179350],\n",
    "                 [0.909390, 0.375856, 0.174563],\n",
    "                 [0.912966, 0.381636, 0.169755],\n",
    "                 [0.916462, 0.387481, 0.164924],\n",
    "                 [0.919879, 0.393389, 0.160070],\n",
    "                 [0.923215, 0.399359, 0.155193],\n",
    "                 [0.926470, 0.405389, 0.150292],\n",
    "                 [0.929644, 0.411479, 0.145367],\n",
    "                 [0.932737, 0.417627, 0.140417],\n",
    "                 [0.935747, 0.423831, 0.135440],\n",
    "                 [0.938675, 0.430091, 0.130438],\n",
    "                 [0.941521, 0.436405, 0.125409],\n",
    "                 [0.944285, 0.442772, 0.120354],\n",
    "                 [0.946965, 0.449191, 0.115272],\n",
    "                 [0.949562, 0.455660, 0.110164],\n",
    "                 [0.952075, 0.462178, 0.105031],\n",
    "                 [0.954506, 0.468744, 0.099874],\n",
    "                 [0.956852, 0.475356, 0.094695],\n",
    "                 [0.959114, 0.482014, 0.089499],\n",
    "                 [0.961293, 0.488716, 0.084289],\n",
    "                 [0.963387, 0.495462, 0.079073],\n",
    "                 [0.965397, 0.502249, 0.073859],\n",
    "                 [0.967322, 0.509078, 0.068659],\n",
    "                 [0.969163, 0.515946, 0.063488],\n",
    "                 [0.970919, 0.522853, 0.058367],\n",
    "                 [0.972590, 0.529798, 0.053324],\n",
    "                 [0.974176, 0.536780, 0.048392],\n",
    "                 [0.975677, 0.543798, 0.043618],\n",
    "                 [0.977092, 0.550850, 0.039050],\n",
    "                 [0.978422, 0.557937, 0.034931],\n",
    "                 [0.979666, 0.565057, 0.031409],\n",
    "                 [0.980824, 0.572209, 0.028508],\n",
    "                 [0.981895, 0.579392, 0.026250],\n",
    "                 [0.982881, 0.586606, 0.024661],\n",
    "                 [0.983779, 0.593849, 0.023770],\n",
    "                 [0.984591, 0.601122, 0.023606],\n",
    "                 [0.985315, 0.608422, 0.024202],\n",
    "                 [0.985952, 0.615750, 0.025592],\n",
    "                 [0.986502, 0.623105, 0.027814],\n",
    "                 [0.986964, 0.630485, 0.030908],\n",
    "                 [0.987337, 0.637890, 0.034916],\n",
    "                 [0.987622, 0.645320, 0.039886],\n",
    "                 [0.987819, 0.652773, 0.045581],\n",
    "                 [0.987926, 0.660250, 0.051750],\n",
    "                 [0.987945, 0.667748, 0.058329],\n",
    "                 [0.987874, 0.675267, 0.065257],\n",
    "                 [0.987714, 0.682807, 0.072489],\n",
    "                 [0.987464, 0.690366, 0.079990],\n",
    "                 [0.987124, 0.697944, 0.087731],\n",
    "                 [0.986694, 0.705540, 0.095694],\n",
    "                 [0.986175, 0.713153, 0.103863],\n",
    "                 [0.985566, 0.720782, 0.112229],\n",
    "                 [0.984865, 0.728427, 0.120785],\n",
    "                 [0.984075, 0.736087, 0.129527],\n",
    "                 [0.983196, 0.743758, 0.138453],\n",
    "                 [0.982228, 0.751442, 0.147565],\n",
    "                 [0.981173, 0.759135, 0.156863],\n",
    "                 [0.980032, 0.766837, 0.166353],\n",
    "                 [0.978806, 0.774545, 0.176037],\n",
    "                 [0.977497, 0.782258, 0.185923],\n",
    "                 [0.976108, 0.789974, 0.196018],\n",
    "                 [0.974638, 0.797692, 0.206332],\n",
    "                 [0.973088, 0.805409, 0.216877],\n",
    "                 [0.971468, 0.813122, 0.227658],\n",
    "                 [0.969783, 0.820825, 0.238686],\n",
    "                 [0.968041, 0.828515, 0.249972],\n",
    "                 [0.966243, 0.836191, 0.261534],\n",
    "                 [0.964394, 0.843848, 0.273391],\n",
    "                 [0.962517, 0.851476, 0.285546],\n",
    "                 [0.960626, 0.859069, 0.298010],\n",
    "                 [0.958720, 0.866624, 0.310820],\n",
    "                 [0.956834, 0.874129, 0.323974],\n",
    "                 [0.954997, 0.881569, 0.337475],\n",
    "                 [0.953215, 0.888942, 0.351369],\n",
    "                 [0.951546, 0.896226, 0.365627],\n",
    "                 [0.950018, 0.903409, 0.380271],\n",
    "                 [0.948683, 0.910473, 0.395289],\n",
    "                 [0.947594, 0.917399, 0.410665],\n",
    "                 [0.946809, 0.924168, 0.426373],\n",
    "                 [0.946392, 0.930761, 0.442367],\n",
    "                 [0.946403, 0.937159, 0.458592],\n",
    "                 [0.946903, 0.943348, 0.474970],\n",
    "                 [0.947937, 0.949318, 0.491426],\n",
    "                 [0.949545, 0.955063, 0.507860],\n",
    "                 [0.951740, 0.960587, 0.524203],\n",
    "                 [0.954529, 0.965896, 0.540361],\n",
    "                 [0.957896, 0.971003, 0.556275],\n",
    "                 [0.961812, 0.975924, 0.571925],\n",
    "                 [0.966249, 0.980678, 0.587206],\n",
    "                 [0.971162, 0.985282, 0.602154],\n",
    "                 [0.976511, 0.989753, 0.616760],\n",
    "                 [0.982257, 0.994109, 0.631017],\n",
    "                 [0.988362, 0.998364, 0.644924]]\n"
   ]
  },
  {
   "cell_type": "code",
   "execution_count": 96,
   "metadata": {},
   "outputs": [],
   "source": [
    "a = _inferno_data"
   ]
  },
  {
   "cell_type": "code",
   "execution_count": 101,
   "metadata": {},
   "outputs": [],
   "source": [
    "p = np.arange(256)"
   ]
  },
  {
   "cell_type": "code",
   "execution_count": 118,
   "metadata": {},
   "outputs": [
    {
     "data": {
      "image/png": "[encoded data removed]",
      "text/plain": [
       "<matplotlib.figure.Figure at 0x10f0db38>"
      ]
     },
     "metadata": {},
     "output_type": "display_data"
    }
   ],
   "source": [
    "plt.scatter(p,p,c=a)\n",
    "plt.show()"
   ]
  },
  {
   "cell_type": "code",
   "execution_count": 152,
   "metadata": {},
   "outputs": [],
   "source": [
    "a = Image.open('C:/Users/a/flower1.jpg')\n",
    "b = Image.open('C:/Users/a/flower2.jpg')"
   ]
  },
  {
   "cell_type": "code",
   "execution_count": 154,
   "metadata": {},
   "outputs": [
    {
     "data": {
      "text/plain": [
       "(26, 12, 3)"
      ]
     },
     "execution_count": 154,
     "metadata": {},
     "output_type": "execute_result"
    }
   ],
   "source": [
    "b_f = np.array(b)/255.\n",
    "b_f.shape"
   ]
  },
  {
   "cell_type": "code",
   "execution_count": 153,
   "metadata": {
    "scrolled": true
   },
   "outputs": [
    {
     "data": {
      "text/plain": [
       "(96, 16, 3)"
      ]
     },
     "execution_count": 153,
     "metadata": {},
     "output_type": "execute_result"
    }
   ],
   "source": [
    "a_f =  np.array(a)/255.\n",
    "a_f.shape"
   ]
  },
  {
   "cell_type": "code",
   "execution_count": 141,
   "metadata": {},
   "outputs": [],
   "source": [
    "yt = np.arange(20)*48\n",
    "xt = np.arange(20)*27"
   ]
  },
  {
   "cell_type": "code",
   "execution_count": 162,
   "metadata": {
    "scrolled": true
   },
   "outputs": [
    {
     "data": {
      "image/png": "[encoded data removed]",
      "text/plain": [
       "<matplotlib.figure.Figure at 0x12693c18>"
      ]
     },
     "metadata": {},
     "output_type": "display_data"
    }
   ],
   "source": [
    "plt.figure(figsize=(5,5))\n",
    "plt.imshow(b_f)\n",
    "plt.show()"
   ]
  },
  {
   "cell_type": "code",
   "execution_count": 176,
   "metadata": {},
   "outputs": [
    {
     "data": {
      "text/plain": [
       "array([[ 0.98039216,  0.75294118,  0.60784314],\n",
       "       [ 0.96470588,  0.7372549 ,  0.59215686],\n",
       "       [ 0.97647059,  0.74117647,  0.6       ],\n",
       "       [ 0.97254902,  0.7254902 ,  0.59607843],\n",
       "       [ 0.95294118,  0.71372549,  0.59215686],\n",
       "       [ 0.96862745,  0.74509804,  0.63137255],\n",
       "       [ 0.98039216,  0.78039216,  0.6745098 ],\n",
       "       [ 0.97647059,  0.78823529,  0.69803922],\n",
       "       [ 0.99607843,  0.81176471,  0.73333333],\n",
       "       [ 0.99607843,  0.81176471,  0.74901961],\n",
       "       [ 0.98039216,  0.78823529,  0.73333333],\n",
       "       [ 0.97254902,  0.76862745,  0.71764706],\n",
       "       [ 0.98823529,  0.78431373,  0.73333333],\n",
       "       [ 0.99607843,  0.81176471,  0.74901961],\n",
       "       [ 0.99607843,  0.81568627,  0.75294118],\n",
       "       [ 0.98039216,  0.81960784,  0.74117647],\n",
       "       [ 0.98039216,  0.81176471,  0.74509804],\n",
       "       [ 0.98431373,  0.81568627,  0.74901961],\n",
       "       [ 0.98039216,  0.8       ,  0.7372549 ],\n",
       "       [ 0.97647059,  0.8       ,  0.7254902 ],\n",
       "       [ 0.98039216,  0.79607843,  0.7254902 ],\n",
       "       [ 0.98431373,  0.8       ,  0.72941176],\n",
       "       [ 1.        ,  0.80784314,  0.74117647],\n",
       "       [ 0.99215686,  0.79215686,  0.7254902 ],\n",
       "       [ 0.98039216,  0.78039216,  0.71372549],\n",
       "       [ 0.98039216,  0.77254902,  0.70980392]])"
      ]
     },
     "execution_count": 176,
     "metadata": {},
     "output_type": "execute_result"
    }
   ],
   "source": [
    "flow_2 = np.array(b_f[:,5])\n",
    "flow_2"
   ]
  },
  {
   "cell_type": "code",
   "execution_count": 161,
   "metadata": {
    "scrolled": true
   },
   "outputs": [
    {
     "data": {
      "image/png": "[encoded data removed]",
      "text/plain": [
       "<matplotlib.figure.Figure at 0x12606e48>"
      ]
     },
     "metadata": {},
     "output_type": "display_data"
    }
   ],
   "source": [
    "plt.figure(figsize=(5,5))\n",
    "plt.imshow(a_f)\n",
    "plt.show()"
   ]
  },
  {
   "cell_type": "code",
   "execution_count": 163,
   "metadata": {},
   "outputs": [],
   "source": [
    "flow_1 = a_f[:,9]"
   ]
  },
  {
   "cell_type": "code",
   "execution_count": 180,
   "metadata": {},
   "outputs": [
    {
     "name": "stdout",
     "output_type": "stream",
     "text": [
      "(96, 3) (26, 3)\n"
     ]
    }
   ],
   "source": [
    "flow_1\n",
    "print(flow_1.shape,flow_2.shape)"
   ]
  },
  {
   "cell_type": "code",
   "execution_count": 177,
   "metadata": {},
   "outputs": [],
   "source": [
    "pl = np.arange(len(flow_1))\n",
    "ppl = np.arange(len(flow_2))"
   ]
  },
  {
   "cell_type": "code",
   "execution_count": 178,
   "metadata": {},
   "outputs": [
    {
     "data": {
      "image/png": "[encoded data removed]",
      "text/plain": [
       "<matplotlib.figure.Figure at 0xffb1f98>"
      ]
     },
     "metadata": {},
     "output_type": "display_data"
    }
   ],
   "source": [
    "plt.scatter(ppl,ppl,color = flow_2)\n",
    "plt.show()"
   ]
  },
  {
   "cell_type": "code",
   "execution_count": 174,
   "metadata": {},
   "outputs": [
    {
     "data": {
      "image/png": "[encoded data removed]",
      "text/plain": [
       "<matplotlib.figure.Figure at 0x10691240>"
      ]
     },
     "metadata": {},
     "output_type": "display_data"
    }
   ],
   "source": [
    "plt.scatter(pl,pl,color = flow_1)\n",
    "plt.show()"
   ]
  },
  {
   "cell_type": "code",
   "execution_count": 181,
   "metadata": {
    "collapsed": true
   },
   "outputs": [],
   "source": [
    "kk = np.arange(100)"
   ]
  },
  {
   "cell_type": "code",
   "execution_count": 182,
   "metadata": {},
   "outputs": [
    {
     "data": {
      "text/plain": [
       "array([ 0,  1,  2,  3,  4,  5,  6,  7,  8,  9, 10, 11, 12, 13, 14, 15, 16,\n",
       "       17, 18, 19, 20, 21, 22, 23, 24, 25, 26, 27, 28, 29, 30, 31, 32, 33,\n",
       "       34, 35, 36, 37, 38, 39, 40, 41, 42, 43, 44, 45, 46, 47, 48, 49, 50,\n",
       "       51, 52, 53, 54, 55, 56, 57, 58, 59, 60, 61, 62, 63, 64, 65, 66, 67,\n",
       "       68, 69, 70, 71, 72, 73, 74, 75, 76, 77, 78, 79, 80, 81, 82, 83, 84,\n",
       "       85, 86, 87, 88, 89, 90, 91, 92, 93, 94, 95, 96, 97, 98, 99])"
      ]
     },
     "execution_count": 182,
     "metadata": {},
     "output_type": "execute_result"
    }
   ],
   "source": [
    "def double(kk):\n",
    "    \n",
    "    "
   ]
  },
  {
   "cell_type": "code",
   "execution_count": null,
   "metadata": {
    "collapsed": true
   },
   "outputs": [],
   "source": []
  }
 ],
 "metadata": {
  "kernelspec": {
   "display_name": "Python 3",
   "language": "python",
   "name": "python3"
  },
  "language_info": {
   "codemirror_mode": {
    "name": "ipython",
    "version": 3
   },
   "file_extension": ".py",
   "mimetype": "text/x-python",
   "name": "python",
   "nbconvert_exporter": "python",
   "pygments_lexer": "ipython3",
   "version": "3.6.1"
  }
 },
 "nbformat": 4,
 "nbformat_minor": 2
}
