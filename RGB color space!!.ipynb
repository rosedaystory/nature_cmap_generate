{
 "cells": [
  {
   "cell_type": "code",
   "execution_count": 1,
   "metadata": {},
   "outputs": [
    {
     "name": "stderr",
     "output_type": "stream",
     "text": [
      "C:\\ProgramData\\Anaconda3\\lib\\site-packages\\statsmodels\\compat\\pandas.py:56: FutureWarning: The pandas.core.datetools module is deprecated and will be removed in a future version. Please use the pandas.tseries module instead.\n",
      "  from pandas.core import datetools\n",
      "Using TensorFlow backend.\n"
     ]
    }
   ],
   "source": [
    "%run c://Users/a/apython/__init__/Normal_for_DSS.py"
   ]
  },
  {
   "cell_type": "code",
   "execution_count": 2,
   "metadata": {
    "collapsed": true
   },
   "outputs": [],
   "source": [
    "\n",
    "\n",
    "#RGB color map!!!\n",
    "zzz = np.arange(100)/100.\n",
    "xx,yy = np.meshgrid(zzz,zzz)\n",
    "rr_ = xx.reshape(-1)\n",
    "gg_ = yy.reshape(-1)\n",
    "def draw_rgbb (float):\n",
    "    bb_ = np.ones_like(gg_) * flaot\n",
    "    col = np.dstack((rr_,gg_,bb_)).reshape(-1,3)\n",
    "    plt.scatter(rr_,gg_,c=col)\n",
    "    plt.show()\n",
    "    \n",
    "def draw_rgbb_ (floatt):\n",
    "    bb_ = np.ones_like(gg_) * floatt\n",
    "    col = np.dstack((rr_,gg_,bb_)).reshape(-1,3)\n",
    "    plt.scatter(rr_,gg_,c=col)\n",
    "\n",
    "def draw_rgbb_n ( n):\n",
    "    plt.figure(figsize = (5, 5*(n+1)))\n",
    "    for i in range(n+1):\n",
    "        plt.subplot(n+1,1,i+1)\n",
    "        draw_rgbb_(i / float(n) )\n",
    "    plt.show()"
   ]
  },
  {
   "cell_type": "code",
   "execution_count": null,
   "metadata": {
    "collapsed": true
   },
   "outputs": [],
   "source": []
  }
 ],
 "metadata": {
  "kernelspec": {
   "display_name": "Python 3",
   "language": "python",
   "name": "python3"
  },
  "language_info": {
   "codemirror_mode": {
    "name": "ipython",
    "version": 3
   },
   "file_extension": ".py",
   "mimetype": "text/x-python",
   "name": "python",
   "nbconvert_exporter": "python",
   "pygments_lexer": "ipython3",
   "version": "3.6.1"
  }
 },
 "nbformat": 4,
 "nbformat_minor": 2
}
