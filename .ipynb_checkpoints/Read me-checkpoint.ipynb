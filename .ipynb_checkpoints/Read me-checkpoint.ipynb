{
 "cells": [
  {
   "cell_type": "markdown",
   "metadata": {},
   "source": [
    "# Nature gradation to matplotlib.pyplot cmap!!\n",
    "\n",
    "### Motivation :\n",
    "#### There`s so lot`s of color gradation in nature, but our cmaps are so poor then what we need!!\n",
    "\n",
    "### so what!? :  \n",
    "#### i made some tools that can treat nature image which can make it to pyplot color map formation!!!\n",
    "\n",
    "### basic functions are builten now. \n",
    "\n",
    "### after then\n",
    "#### 1. I will make more function and write explanation about it! \n",
    "#### 2. will make automatic treating of the image!!! "
   ]
  }
 ],
 "metadata": {
  "kernelspec": {
   "display_name": "Python 3",
   "language": "python",
   "name": "python3"
  },
  "language_info": {
   "codemirror_mode": {
    "name": "ipython",
    "version": 3
   },
   "file_extension": ".py",
   "mimetype": "text/x-python",
   "name": "python",
   "nbconvert_exporter": "python",
   "pygments_lexer": "ipython3",
   "version": "3.6.1"
  }
 },
 "nbformat": 4,
 "nbformat_minor": 2
}
